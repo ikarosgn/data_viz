{
  "nbformat": 4,
  "nbformat_minor": 0,
  "metadata": {
    "colab": {
      "name": "Function loop condition.ipynb",
      "provenance": [],
      "authorship_tag": "ABX9TyOVTjfkdudKJgvFiE3y1hq9",
      "include_colab_link": true
    },
    "kernelspec": {
      "name": "python3",
      "display_name": "Python 3"
    }
  },
  "cells": [
    {
      "cell_type": "markdown",
      "metadata": {
        "id": "view-in-github",
        "colab_type": "text"
      },
      "source": [
        "<a href=\"https://colab.research.google.com/github/ikarosgn/data_viz/blob/main/Function_loop_condition.ipynb\" target=\"_parent\"><img src=\"https://colab.research.google.com/assets/colab-badge.svg\" alt=\"Open In Colab\"/></a>"
      ]
    },
    {
      "cell_type": "markdown",
      "metadata": {
        "id": "IAGK8OrUhyao"
      },
      "source": [
        "def คือการกำหนดฟังก์ชัน\r\n",
        "```python~\r\n",
        "def function_name(_Input) :\r\n",
        "  do_something with _Input_ to get _Output_\r\n",
        "  return _Output_\r\n",
        "\r\n",
        "  backtick (`)\r\n",
        "  tilde(~)\r\n",
        "  curly bracket ({})\r\n",
        "  squre bracket ([])"
      ]
    },
    {
      "cell_type": "code",
      "metadata": {
        "id": "U6iwiiHLhtJb"
      },
      "source": [
        ""
      ],
      "execution_count": null,
      "outputs": []
    },
    {
      "cell_type": "code",
      "metadata": {
        "id": "28uym80BlIpZ"
      },
      "source": [
        "def print_name(name,surname,ID):\r\n",
        "  st = f'ชื่อ {name} นามสกุล {surname} รหัส {ID}'\r\n",
        "  return st"
      ],
      "execution_count": null,
      "outputs": []
    },
    {
      "cell_type": "code",
      "metadata": {
        "colab": {
          "base_uri": "https://localhost:8080/",
          "height": 34
        },
        "id": "C19fJmsalLnX",
        "outputId": "eb1de26c-daf5-4a6b-a183-9e583c294b2c"
      },
      "source": [
        "print_name('สุทัศน์','พุทธิเสน','ุ6130205657')"
      ],
      "execution_count": null,
      "outputs": [
        {
          "output_type": "execute_result",
          "data": {
            "application/vnd.google.colaboratory.intrinsic+json": {
              "type": "string"
            },
            "text/plain": [
              "'ชื่อ สุทัศน์ นามสกุล พุทธิเสน รหัส ุ6130205657'"
            ]
          },
          "metadata": {
            "tags": []
          },
          "execution_count": 22
        }
      ]
    },
    {
      "cell_type": "code",
      "metadata": {
        "colab": {
          "base_uri": "https://localhost:8080/"
        },
        "id": "J0bd8cpjliU9",
        "outputId": "13cf9bf6-8e14-4eed-efcb-7e5724ad9089"
      },
      "source": [
        "print(print_name(name='สุทัศน์',surname='พุทธิเสน',ID='ุ6130205657'))"
      ],
      "execution_count": null,
      "outputs": [
        {
          "output_type": "stream",
          "text": [
            "ชื่อ สุทัศน์ นามสกุล พุทธิเสน รหัส ุ6130205657\n"
          ],
          "name": "stdout"
        }
      ]
    },
    {
      "cell_type": "markdown",
      "metadata": {
        "id": "1idg6j5updCz"
      },
      "source": [
        "ใช้เว้นวรรค ' ' เพื่อบอกขแบเขตของโปรแกรม\r\n",
        "ใช้คำสั่ง print แทน return ได้\r\n",
        "แล้วบรรทัดต่อไปถ้าจะให้แสดงผลจะไม่ต้องprint ใส่ชื่อฟังก์ชันได้เลย"
      ]
    },
    {
      "cell_type": "code",
      "metadata": {
        "id": "3Q5vsP79pX1N"
      },
      "source": [
        "def print_name(name,surname,ID):\r\n",
        "  st = f'ชื่อ {name} นามสกุล {surname} รหัส {ID}'\r\n",
        "  print(st)"
      ],
      "execution_count": null,
      "outputs": []
    },
    {
      "cell_type": "code",
      "metadata": {
        "colab": {
          "base_uri": "https://localhost:8080/"
        },
        "id": "P31wxNGLprLX",
        "outputId": "13ef2b38-c15f-4edc-de04-57d9def408b3"
      },
      "source": [
        "print_name(name='สุทัศน์',surname='พุทธิเสน',ID='ุ6130205657')"
      ],
      "execution_count": null,
      "outputs": [
        {
          "output_type": "stream",
          "text": [
            "ชื่อ สุทัศน์ นามสกุล พุทธิเสน รหัส ุ6130205657\n"
          ],
          "name": "stdout"
        }
      ]
    },
    {
      "cell_type": "code",
      "metadata": {
        "id": "m6uK7dTgqZDD"
      },
      "source": [
        "def Pi():\r\n",
        "   return 3.14"
      ],
      "execution_count": null,
      "outputs": []
    },
    {
      "cell_type": "code",
      "metadata": {
        "colab": {
          "base_uri": "https://localhost:8080/"
        },
        "id": "G4lyoXfmq2qE",
        "outputId": "1de7d716-3bba-447d-af73-93101bf8f6c3"
      },
      "source": [
        "Pi()*2*2"
      ],
      "execution_count": null,
      "outputs": [
        {
          "output_type": "execute_result",
          "data": {
            "text/plain": [
              "12.56"
            ]
          },
          "metadata": {
            "tags": []
          },
          "execution_count": 29
        }
      ]
    },
    {
      "cell_type": "code",
      "metadata": {
        "id": "NrQOHawvrBx2",
        "colab": {
          "base_uri": "https://localhost:8080/"
        },
        "outputId": "bb831c99-43d4-4103-a060-2c46dafacf5f"
      },
      "source": [
        "3.14*2*2"
      ],
      "execution_count": null,
      "outputs": [
        {
          "output_type": "execute_result",
          "data": {
            "text/plain": [
              "12.56"
            ]
          },
          "metadata": {
            "tags": []
          },
          "execution_count": 30
        }
      ]
    },
    {
      "cell_type": "code",
      "metadata": {
        "id": "lpKAPpnawc_7"
      },
      "source": [
        "def print_g_default(name,surname,ID,Grade='A++++++++'):\r\n",
        "  st = f'ชื่อ {name} นามสกุล {surname} รหัส {ID}'\r\n",
        "  print(st)\r\n",
        "  st2 = f'เกรด {Grade}'\r\n",
        "  print(st2)"
      ],
      "execution_count": null,
      "outputs": []
    },
    {
      "cell_type": "markdown",
      "metadata": {
        "id": "QQ3QyN0n0rjj"
      },
      "source": [
        "for ใช้เขียน loop โดยดึง สมาชิกจาก list มาทำ process\r\n",
        "\r\n",
        "`\r\n",
        "\r\n",
        "\r\n",
        "for each_member in list :\r\n",
        "do_somthing\r\n",
        "\r\n"
      ]
    },
    {
      "cell_type": "code",
      "metadata": {
        "colab": {
          "base_uri": "https://localhost:8080/"
        },
        "id": "DDE_YjGf0q7w",
        "outputId": "629f71a5-c389-4faa-ea05-4a5f10e45e8d"
      },
      "source": [
        "for i in[1,2,3]:\r\n",
        "  print(f'thismember = {i} after process = {i**2}')"
      ],
      "execution_count": null,
      "outputs": [
        {
          "output_type": "stream",
          "text": [
            "thismember = 1 after process = 1\n",
            "thismember = 2 after process = 4\n",
            "thismember = 3 after process = 9\n"
          ],
          "name": "stdout"
        }
      ]
    },
    {
      "cell_type": "code",
      "metadata": {
        "id": "08ExDbh925Q5",
        "colab": {
          "base_uri": "https://localhost:8080/",
          "height": 132
        },
        "outputId": "dba58d7e-4751-4b3a-ef5d-0507aaa2d415"
      },
      "source": [
        ""
      ],
      "execution_count": null,
      "outputs": [
        {
          "output_type": "error",
          "ename": "SyntaxError",
          "evalue": "ignored",
          "traceback": [
            "\u001b[0;36m  File \u001b[0;32m\"<ipython-input-43-9f56e7c44efc>\"\u001b[0;36m, line \u001b[0;32m1\u001b[0m\n\u001b[0;31m    print(in[2,3,4])\u001b[0m\n\u001b[0m           ^\u001b[0m\n\u001b[0;31mSyntaxError\u001b[0m\u001b[0;31m:\u001b[0m invalid syntax\n"
          ]
        }
      ]
    },
    {
      "cell_type": "code",
      "metadata": {
        "colab": {
          "base_uri": "https://localhost:8080/"
        },
        "id": "Lb5M3KtEV3KT",
        "outputId": "80cfcea0-be79-4123-8480-d0b154d55fa8"
      },
      "source": [
        "for i in 'Suthad':\r\n",
        "  print(f'{i} -> /')"
      ],
      "execution_count": 2,
      "outputs": [
        {
          "output_type": "stream",
          "text": [
            "S -> /\n",
            "u -> /\n",
            "t -> /\n",
            "h -> /\n",
            "a -> /\n",
            "d -> /\n"
          ],
          "name": "stdout"
        }
      ]
    },
    {
      "cell_type": "code",
      "metadata": {
        "colab": {
          "base_uri": "https://localhost:8080/"
        },
        "id": "PYiPsmIAWRJ7",
        "outputId": "47b511af-b35a-438d-f2e1-20c46d347503"
      },
      "source": [
        "for i in 'Suthad':\r\n",
        "    print(f'{i} -> /' , end = ',' )"
      ],
      "execution_count": 6,
      "outputs": [
        {
          "output_type": "stream",
          "text": [
            "S -> /,u -> /,t -> /,h -> /,a -> /,d -> /,"
          ],
          "name": "stdout"
        }
      ]
    },
    {
      "cell_type": "code",
      "metadata": {
        "id": "pat4e_qtXAo_"
      },
      "source": [
        ""
      ],
      "execution_count": null,
      "outputs": []
    },
    {
      "cell_type": "markdown",
      "metadata": {
        "id": "Upg0Kdn4XWuY"
      },
      "source": [
        "## สร้างลิสตัวเลขแบบอัตโนมัติ range()\r\n"
      ]
    },
    {
      "cell_type": "markdown",
      "metadata": {
        "id": "-R7W8axLhwv6"
      },
      "source": [
        ""
      ]
    },
    {
      "cell_type": "code",
      "metadata": {
        "colab": {
          "base_uri": "https://localhost:8080/"
        },
        "id": "ev-ZYV1mXeFX",
        "outputId": "5da18815-7bd3-4c49-de18-961f9263edd6"
      },
      "source": [
        "range5_output = range(5) \r\n",
        "print(list(range5_output))"
      ],
      "execution_count": 8,
      "outputs": [
        {
          "output_type": "stream",
          "text": [
            "[0, 1, 2, 3, 4]\n"
          ],
          "name": "stdout"
        }
      ]
    },
    {
      "cell_type": "code",
      "metadata": {
        "colab": {
          "base_uri": "https://localhost:8080/"
        },
        "id": "dI3RGhJkYe9A",
        "outputId": "abeb42b6-f9fa-4d5e-8dbd-9f4f0f350702"
      },
      "source": [
        "for i in range(100):\r\n",
        "    print('งง', end=' ')"
      ],
      "execution_count": 11,
      "outputs": [
        {
          "output_type": "stream",
          "text": [
            "งง งง งง งง งง งง งง งง งง งง งง งง งง งง งง งง งง งง งง งง งง งง งง งง งง งง งง งง งง งง งง งง งง งง งง งง งง งง งง งง งง งง งง งง งง งง งง งง งง งง งง งง งง งง งง งง งง งง งง งง งง งง งง งง งง งง งง งง งง งง งง งง งง งง งง งง งง งง งง งง งง งง งง งง งง งง งง งง งง งง งง งง งง งง งง งง งง งง งง งง "
          ],
          "name": "stdout"
        }
      ]
    },
    {
      "cell_type": "code",
      "metadata": {
        "colab": {
          "base_uri": "https://localhost:8080/"
        },
        "id": "TPe40of6YsHI",
        "outputId": "4a7feca7-8683-4fb7-9ea6-82ac6e1d1275"
      },
      "source": [
        "print(list(range(10)))\r\n",
        "print(list(range(10)[::2]))"
      ],
      "execution_count": 12,
      "outputs": [
        {
          "output_type": "stream",
          "text": [
            "[0, 1, 2, 3, 4, 5, 6, 7, 8, 9]\n",
            "[0, 2, 4, 6, 8]\n"
          ],
          "name": "stdout"
        }
      ]
    },
    {
      "cell_type": "code",
      "metadata": {
        "colab": {
          "base_uri": "https://localhost:8080/"
        },
        "id": "YMOF5U1kcUgr",
        "outputId": "46d094b6-a74b-4b1a-daa3-030b190b4bd3"
      },
      "source": [
        "list(range(1,11))"
      ],
      "execution_count": 13,
      "outputs": [
        {
          "output_type": "execute_result",
          "data": {
            "text/plain": [
              "[1, 2, 3, 4, 5, 6, 7, 8, 9, 10]"
            ]
          },
          "metadata": {
            "tags": []
          },
          "execution_count": 13
        }
      ]
    },
    {
      "cell_type": "code",
      "metadata": {
        "colab": {
          "base_uri": "https://localhost:8080/"
        },
        "id": "NfapnwbLcbj0",
        "outputId": "7e6ebd84-7cd1-4a17-f4b6-d11def49726f"
      },
      "source": [
        "list(range(-3,100,4))"
      ],
      "execution_count": 14,
      "outputs": [
        {
          "output_type": "execute_result",
          "data": {
            "text/plain": [
              "[-3,\n",
              " 1,\n",
              " 5,\n",
              " 9,\n",
              " 13,\n",
              " 17,\n",
              " 21,\n",
              " 25,\n",
              " 29,\n",
              " 33,\n",
              " 37,\n",
              " 41,\n",
              " 45,\n",
              " 49,\n",
              " 53,\n",
              " 57,\n",
              " 61,\n",
              " 65,\n",
              " 69,\n",
              " 73,\n",
              " 77,\n",
              " 81,\n",
              " 85,\n",
              " 89,\n",
              " 93,\n",
              " 97]"
            ]
          },
          "metadata": {
            "tags": []
          },
          "execution_count": 14
        }
      ]
    },
    {
      "cell_type": "code",
      "metadata": {
        "colab": {
          "base_uri": "https://localhost:8080/"
        },
        "id": "Qep9sENcdmlc",
        "outputId": "3441c806-3a71-4c4f-9ec3-55e462a4ffe5"
      },
      "source": [
        "for name1 in range(2,5):\r\n",
        "  for name2 in range(1,13):\r\n",
        "    print(name1, ' x ',name2, '=',name1*name2)"
      ],
      "execution_count": 15,
      "outputs": [
        {
          "output_type": "stream",
          "text": [
            "2  x  1 = 2\n",
            "2  x  2 = 4\n",
            "2  x  3 = 6\n",
            "2  x  4 = 8\n",
            "2  x  5 = 10\n",
            "2  x  6 = 12\n",
            "2  x  7 = 14\n",
            "2  x  8 = 16\n",
            "2  x  9 = 18\n",
            "2  x  10 = 20\n",
            "2  x  11 = 22\n",
            "2  x  12 = 24\n",
            "3  x  1 = 3\n",
            "3  x  2 = 6\n",
            "3  x  3 = 9\n",
            "3  x  4 = 12\n",
            "3  x  5 = 15\n",
            "3  x  6 = 18\n",
            "3  x  7 = 21\n",
            "3  x  8 = 24\n",
            "3  x  9 = 27\n",
            "3  x  10 = 30\n",
            "3  x  11 = 33\n",
            "3  x  12 = 36\n",
            "4  x  1 = 4\n",
            "4  x  2 = 8\n",
            "4  x  3 = 12\n",
            "4  x  4 = 16\n",
            "4  x  5 = 20\n",
            "4  x  6 = 24\n",
            "4  x  7 = 28\n",
            "4  x  8 = 32\n",
            "4  x  9 = 36\n",
            "4  x  10 = 40\n",
            "4  x  11 = 44\n",
            "4  x  12 = 48\n"
          ],
          "name": "stdout"
        }
      ]
    },
    {
      "cell_type": "code",
      "metadata": {
        "colab": {
          "base_uri": "https://localhost:8080/",
          "height": 132
        },
        "id": "2-a_sgngexQx",
        "outputId": "b782622a-515a-434c-bf17-e87405d52c24"
      },
      "source": [
        "for name1 in range(2,5): #(2,3,4)\r\n",
        "print(f'now name1 = {name1}')\r\n",
        "  for name2 in range(1,13):\r\n",
        "    print(name1, ' x ',name2, '=',name1*name2)\r\n",
        "  print(inner loop end)\r\n",
        "  "
      ],
      "execution_count": 18,
      "outputs": [
        {
          "output_type": "error",
          "ename": "IndentationError",
          "evalue": "ignored",
          "traceback": [
            "\u001b[0;36m  File \u001b[0;32m\"<ipython-input-18-24db3c26ced9>\"\u001b[0;36m, line \u001b[0;32m2\u001b[0m\n\u001b[0;31m    print(f'now name1 = {name1}')\u001b[0m\n\u001b[0m        ^\u001b[0m\n\u001b[0;31mIndentationError\u001b[0m\u001b[0;31m:\u001b[0m expected an indented block\n"
          ]
        }
      ]
    },
    {
      "cell_type": "code",
      "metadata": {
        "id": "SIijLo-BfKhC"
      },
      "source": [
        "list_fris = ['ก','ข','ค','a','b','c','d']"
      ],
      "execution_count": 31,
      "outputs": []
    },
    {
      "cell_type": "code",
      "metadata": {
        "id": "AZAbWeKjfSeH"
      },
      "source": [
        "def print_feelings(I,fris,feeling = 'คิดถึง'):\r\n",
        "  for fri in fris :\r\n",
        "    print(f'{I} {feeling} {fri}')"
      ],
      "execution_count": 37,
      "outputs": []
    },
    {
      "cell_type": "code",
      "metadata": {
        "colab": {
          "base_uri": "https://localhost:8080/"
        },
        "id": "H9JjEHeagcRy",
        "outputId": "e2df0721-da32-4e57-e216-4463d0cce9bd"
      },
      "source": [
        "print_feelings('ก',list_fris)"
      ],
      "execution_count": 38,
      "outputs": [
        {
          "output_type": "stream",
          "text": [
            "ก คิดถึง ก\n",
            "ก คิดถึง ข\n",
            "ก คิดถึง ค\n",
            "ก คิดถึง a\n",
            "ก คิดถึง b\n",
            "ก คิดถึง c\n",
            "ก คิดถึง d\n"
          ],
          "name": "stdout"
        }
      ]
    },
    {
      "cell_type": "code",
      "metadata": {
        "id": "anwfiJOXj-IA"
      },
      "source": [
        ""
      ],
      "execution_count": null,
      "outputs": []
    },
    {
      "cell_type": "code",
      "metadata": {
        "colab": {
          "base_uri": "https://localhost:8080/"
        },
        "id": "CBhGQgROhFsC",
        "outputId": "663728a5-f148-4539-f0ba-a5ce240832c4"
      },
      "source": [
        "print_feelings('ก',list_fris,'รัก')"
      ],
      "execution_count": 40,
      "outputs": [
        {
          "output_type": "stream",
          "text": [
            "ก รัก ก\n",
            "ก รัก ข\n",
            "ก รัก ค\n",
            "ก รัก a\n",
            "ก รัก b\n",
            "ก รัก c\n",
            "ก รัก d\n"
          ],
          "name": "stdout"
        }
      ]
    },
    {
      "cell_type": "code",
      "metadata": {
        "id": "L1KomqtVj-16"
      },
      "source": [
        ""
      ],
      "execution_count": null,
      "outputs": []
    },
    {
      "cell_type": "markdown",
      "metadata": {
        "id": "tYuDHmrLj_W9"
      },
      "source": [
        "เรื่อง condition\r\n",
        "\r\n",
        "if condition : \r\n",
        "   do something\r\n",
        "elif condition 2 :\r\n",
        "   do another thing \r\n",
        "else:\r\n",
        "   do;;;"
      ]
    },
    {
      "cell_type": "code",
      "metadata": {
        "colab": {
          "base_uri": "https://localhost:8080/"
        },
        "id": "BGb6JdBGkYRA",
        "outputId": "6cfc76b1-acce-425f-b159-23d908a187e3"
      },
      "source": [
        "print(list_fris)"
      ],
      "execution_count": 41,
      "outputs": [
        {
          "output_type": "stream",
          "text": [
            "['ก', 'ข', 'ค', 'a', 'b', 'c', 'd']\n"
          ],
          "name": "stdout"
        }
      ]
    },
    {
      "cell_type": "code",
      "metadata": {
        "colab": {
          "base_uri": "https://localhost:8080/"
        },
        "id": "So4MqGOhkCGs",
        "outputId": "f94117ab-361e-4d65-ec7a-6578ccd14517"
      },
      "source": [
        "for name1 in list_fris: \r\n",
        "   for name2 in list_fris :\r\n",
        "     print(name1,'love',name2)"
      ],
      "execution_count": 44,
      "outputs": [
        {
          "output_type": "stream",
          "text": [
            "ก love ก\n",
            "ก love ข\n",
            "ก love ค\n",
            "ก love a\n",
            "ก love b\n",
            "ก love c\n",
            "ก love d\n",
            "ข love ก\n",
            "ข love ข\n",
            "ข love ค\n",
            "ข love a\n",
            "ข love b\n",
            "ข love c\n",
            "ข love d\n",
            "ค love ก\n",
            "ค love ข\n",
            "ค love ค\n",
            "ค love a\n",
            "ค love b\n",
            "ค love c\n",
            "ค love d\n",
            "a love ก\n",
            "a love ข\n",
            "a love ค\n",
            "a love a\n",
            "a love b\n",
            "a love c\n",
            "a love d\n",
            "b love ก\n",
            "b love ข\n",
            "b love ค\n",
            "b love a\n",
            "b love b\n",
            "b love c\n",
            "b love d\n",
            "c love ก\n",
            "c love ข\n",
            "c love ค\n",
            "c love a\n",
            "c love b\n",
            "c love c\n",
            "c love d\n",
            "d love ก\n",
            "d love ข\n",
            "d love ค\n",
            "d love a\n",
            "d love b\n",
            "d love c\n",
            "d love d\n"
          ],
          "name": "stdout"
        }
      ]
    },
    {
      "cell_type": "code",
      "metadata": {
        "colab": {
          "base_uri": "https://localhost:8080/"
        },
        "id": "Ab_OAQLvlxrS",
        "outputId": "9b3c934d-3a09-47b0-e5b6-6d298e80dcf7"
      },
      "source": [
        "for name1 in list_fris: \r\n",
        "   for name2 in list_fris :\r\n",
        "     if name1 != name2:\r\n",
        "         print(name1,'love',name2)"
      ],
      "execution_count": 48,
      "outputs": [
        {
          "output_type": "stream",
          "text": [
            "ก love ข\n",
            "ก love ค\n",
            "ก love a\n",
            "ก love b\n",
            "ก love c\n",
            "ก love d\n",
            "ข love ก\n",
            "ข love ค\n",
            "ข love a\n",
            "ข love b\n",
            "ข love c\n",
            "ข love d\n",
            "ค love ก\n",
            "ค love ข\n",
            "ค love a\n",
            "ค love b\n",
            "ค love c\n",
            "ค love d\n",
            "a love ก\n",
            "a love ข\n",
            "a love ค\n",
            "a love b\n",
            "a love c\n",
            "a love d\n",
            "b love ก\n",
            "b love ข\n",
            "b love ค\n",
            "b love a\n",
            "b love c\n",
            "b love d\n",
            "c love ก\n",
            "c love ข\n",
            "c love ค\n",
            "c love a\n",
            "c love b\n",
            "c love d\n",
            "d love ก\n",
            "d love ข\n",
            "d love ค\n",
            "d love a\n",
            "d love b\n",
            "d love c\n"
          ],
          "name": "stdout"
        }
      ]
    },
    {
      "cell_type": "code",
      "metadata": {
        "colab": {
          "base_uri": "https://localhost:8080/"
        },
        "id": "0SOn9H5WlbU3",
        "outputId": "c5a30c08-07ed-4b56-e519-d0587a9ed277"
      },
      "source": [
        "for name1 in list_fris: \r\n",
        "   for name2 in list_fris :\r\n",
        "     if name1 == name2:\r\n",
        "         print(name1,'love',name2)\r\n",
        "        "
      ],
      "execution_count": 50,
      "outputs": [
        {
          "output_type": "stream",
          "text": [
            "ก love ก\n",
            "ข love ข\n",
            "ค love ค\n",
            "a love a\n",
            "b love b\n",
            "c love c\n",
            "d love d\n"
          ],
          "name": "stdout"
        }
      ]
    },
    {
      "cell_type": "code",
      "metadata": {
        "colab": {
          "base_uri": "https://localhost:8080/"
        },
        "id": "rZRLa8pvmHE8",
        "outputId": "04d734f0-966c-420a-9386-9399201633c1"
      },
      "source": [
        "for name1 in list_fris: \r\n",
        "   for name2 in list_fris :\r\n",
        "     if name1 == name2:\r\n",
        "       'do nothing'\r\n",
        "     else: \r\n",
        "         print(name1,'love',name2)"
      ],
      "execution_count": 52,
      "outputs": [
        {
          "output_type": "stream",
          "text": [
            "ก love ข\n",
            "ก love ค\n",
            "ก love a\n",
            "ก love b\n",
            "ก love c\n",
            "ก love d\n",
            "ข love ก\n",
            "ข love ค\n",
            "ข love a\n",
            "ข love b\n",
            "ข love c\n",
            "ข love d\n",
            "ค love ก\n",
            "ค love ข\n",
            "ค love a\n",
            "ค love b\n",
            "ค love c\n",
            "ค love d\n",
            "a love ก\n",
            "a love ข\n",
            "a love ค\n",
            "a love b\n",
            "a love c\n",
            "a love d\n",
            "b love ก\n",
            "b love ข\n",
            "b love ค\n",
            "b love a\n",
            "b love c\n",
            "b love d\n",
            "c love ก\n",
            "c love ข\n",
            "c love ค\n",
            "c love a\n",
            "c love b\n",
            "c love d\n",
            "d love ก\n",
            "d love ข\n",
            "d love ค\n",
            "d love a\n",
            "d love b\n",
            "d love c\n"
          ],
          "name": "stdout"
        }
      ]
    }
  ]
}