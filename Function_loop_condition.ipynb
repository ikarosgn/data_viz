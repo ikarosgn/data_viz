{
  "nbformat": 4,
  "nbformat_minor": 0,
  "metadata": {
    "colab": {
      "name": "Function loop condition.ipynb",
      "provenance": [],
      "authorship_tag": "ABX9TyM1VJgiC6hQ5WviVroc7biN",
      "include_colab_link": true
    },
    "kernelspec": {
      "name": "python3",
      "display_name": "Python 3"
    }
  },
  "cells": [
    {
      "cell_type": "markdown",
      "metadata": {
        "id": "view-in-github",
        "colab_type": "text"
      },
      "source": [
        "<a href=\"https://colab.research.google.com/github/ikarosgn/data_viz/blob/main/Function_loop_condition.ipynb\" target=\"_parent\"><img src=\"https://colab.research.google.com/assets/colab-badge.svg\" alt=\"Open In Colab\"/></a>"
      ]
    },
    {
      "cell_type": "markdown",
      "metadata": {
        "id": "IAGK8OrUhyao"
      },
      "source": [
        "def คือการกำหนดฟังก์ชัน\r\n",
        "```python~\r\n",
        "def function_name(_Input) :\r\n",
        "  do_something with _Input_ to get _Output_\r\n",
        "  return _Output_\r\n",
        "\r\n",
        "  backtick (`)\r\n",
        "  tilde(~)\r\n",
        "  curly bracket ({})\r\n",
        "  squre bracket ([])"
      ]
    },
    {
      "cell_type": "code",
      "metadata": {
        "id": "U6iwiiHLhtJb"
      },
      "source": [
        ""
      ],
      "execution_count": null,
      "outputs": []
    },
    {
      "cell_type": "code",
      "metadata": {
        "id": "28uym80BlIpZ"
      },
      "source": [
        "def print_name(name,surname,ID):\r\n",
        "  st = f'ชื่อ {name} นามสกุล {surname} รหัส {ID}'\r\n",
        "  return st"
      ],
      "execution_count": null,
      "outputs": []
    },
    {
      "cell_type": "code",
      "metadata": {
        "colab": {
          "base_uri": "https://localhost:8080/",
          "height": 34
        },
        "id": "C19fJmsalLnX",
        "outputId": "eb1de26c-daf5-4a6b-a183-9e583c294b2c"
      },
      "source": [
        "print_name('สุทัศน์','พุทธิเสน','ุ6130205657')"
      ],
      "execution_count": null,
      "outputs": [
        {
          "output_type": "execute_result",
          "data": {
            "application/vnd.google.colaboratory.intrinsic+json": {
              "type": "string"
            },
            "text/plain": [
              "'ชื่อ สุทัศน์ นามสกุล พุทธิเสน รหัส ุ6130205657'"
            ]
          },
          "metadata": {
            "tags": []
          },
          "execution_count": 22
        }
      ]
    },
    {
      "cell_type": "code",
      "metadata": {
        "colab": {
          "base_uri": "https://localhost:8080/"
        },
        "id": "J0bd8cpjliU9",
        "outputId": "13cf9bf6-8e14-4eed-efcb-7e5724ad9089"
      },
      "source": [
        "print(print_name(name='สุทัศน์',surname='พุทธิเสน',ID='ุ6130205657'))"
      ],
      "execution_count": null,
      "outputs": [
        {
          "output_type": "stream",
          "text": [
            "ชื่อ สุทัศน์ นามสกุล พุทธิเสน รหัส ุ6130205657\n"
          ],
          "name": "stdout"
        }
      ]
    },
    {
      "cell_type": "markdown",
      "metadata": {
        "id": "1idg6j5updCz"
      },
      "source": [
        "ใช้เว้นวรรค ' ' เพื่อบอกขแบเขตของโปรแกรม\r\n",
        "ใช้คำสั่ง print แทน return ได้\r\n",
        "แล้วบรรทัดต่อไปถ้าจะให้แสดงผลจะไม่ต้องprint ใส่ชื่อฟังก์ชันได้เลย"
      ]
    },
    {
      "cell_type": "code",
      "metadata": {
        "id": "3Q5vsP79pX1N"
      },
      "source": [
        "def print_name(name,surname,ID):\r\n",
        "  st = f'ชื่อ {name} นามสกุล {surname} รหัส {ID}'\r\n",
        "  print(st)"
      ],
      "execution_count": null,
      "outputs": []
    },
    {
      "cell_type": "code",
      "metadata": {
        "colab": {
          "base_uri": "https://localhost:8080/"
        },
        "id": "P31wxNGLprLX",
        "outputId": "13ef2b38-c15f-4edc-de04-57d9def408b3"
      },
      "source": [
        "print_name(name='สุทัศน์',surname='พุทธิเสน',ID='ุ6130205657')"
      ],
      "execution_count": null,
      "outputs": [
        {
          "output_type": "stream",
          "text": [
            "ชื่อ สุทัศน์ นามสกุล พุทธิเสน รหัส ุ6130205657\n"
          ],
          "name": "stdout"
        }
      ]
    },
    {
      "cell_type": "code",
      "metadata": {
        "id": "m6uK7dTgqZDD"
      },
      "source": [
        "def Pi():\r\n",
        "   return 3.14"
      ],
      "execution_count": null,
      "outputs": []
    },
    {
      "cell_type": "code",
      "metadata": {
        "colab": {
          "base_uri": "https://localhost:8080/"
        },
        "id": "G4lyoXfmq2qE",
        "outputId": "1de7d716-3bba-447d-af73-93101bf8f6c3"
      },
      "source": [
        "Pi()*2*2"
      ],
      "execution_count": null,
      "outputs": [
        {
          "output_type": "execute_result",
          "data": {
            "text/plain": [
              "12.56"
            ]
          },
          "metadata": {
            "tags": []
          },
          "execution_count": 29
        }
      ]
    },
    {
      "cell_type": "code",
      "metadata": {
        "id": "NrQOHawvrBx2",
        "colab": {
          "base_uri": "https://localhost:8080/"
        },
        "outputId": "bb831c99-43d4-4103-a060-2c46dafacf5f"
      },
      "source": [
        "3.14*2*2"
      ],
      "execution_count": null,
      "outputs": [
        {
          "output_type": "execute_result",
          "data": {
            "text/plain": [
              "12.56"
            ]
          },
          "metadata": {
            "tags": []
          },
          "execution_count": 30
        }
      ]
    },
    {
      "cell_type": "code",
      "metadata": {
        "id": "lpKAPpnawc_7"
      },
      "source": [
        "def print_g_default(name,surname,ID,Grade='A++++++++'):\r\n",
        "  st = f'ชื่อ {name} นามสกุล {surname} รหัส {ID}'\r\n",
        "  print(st)\r\n",
        "  st2 = f'เกรด {Grade}'\r\n",
        "  print(st2)"
      ],
      "execution_count": 41,
      "outputs": []
    },
    {
      "cell_type": "markdown",
      "metadata": {
        "id": "QQ3QyN0n0rjj"
      },
      "source": [
        "for ใช้เขียน loop โดยดึง สมาชิกจาก list มาทำ process\r\n",
        "for each_member in list :\r\n",
        "do_somthing\r\n",
        "\r\n"
      ]
    },
    {
      "cell_type": "code",
      "metadata": {
        "colab": {
          "base_uri": "https://localhost:8080/"
        },
        "id": "DDE_YjGf0q7w",
        "outputId": "629f71a5-c389-4faa-ea05-4a5f10e45e8d"
      },
      "source": [
        "for i in[1,2,3]:\r\n",
        "  print(f'thismember = {i} after process = {i**2}')"
      ],
      "execution_count": 39,
      "outputs": [
        {
          "output_type": "stream",
          "text": [
            "thismember = 1 after process = 1\n",
            "thismember = 2 after process = 4\n",
            "thismember = 3 after process = 9\n"
          ],
          "name": "stdout"
        }
      ]
    },
    {
      "cell_type": "markdown",
      "metadata": {
        "id": "-R7W8axLhwv6"
      },
      "source": [
        ""
      ]
    }
  ]
}