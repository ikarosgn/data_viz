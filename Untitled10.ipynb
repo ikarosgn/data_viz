{
  "nbformat": 4,
  "nbformat_minor": 0,
  "metadata": {
    "colab": {
      "name": "Untitled10.ipynb",
      "provenance": [],
      "authorship_tag": "ABX9TyMryRvOYKMD3aECsPhnlZjE",
      "include_colab_link": true
    },
    "kernelspec": {
      "name": "python3",
      "display_name": "Python 3"
    },
    "language_info": {
      "name": "python"
    }
  },
  "cells": [
    {
      "cell_type": "markdown",
      "metadata": {
        "id": "view-in-github",
        "colab_type": "text"
      },
      "source": [
        "<a href=\"https://colab.research.google.com/github/ikarosgn/data_viz/blob/main/Untitled10.ipynb\" target=\"_parent\"><img src=\"https://colab.research.google.com/assets/colab-badge.svg\" alt=\"Open In Colab\"/></a>"
      ]
    },
    {
      "cell_type": "code",
      "metadata": {
        "id": "0-ffObmCNxrs"
      },
      "source": [
        "import pandas as pd\n",
        "import os\n",
        "from datetime import datetime as dt\n",
        "from datetime import time"
      ],
      "execution_count": 1,
      "outputs": []
    },
    {
      "cell_type": "code",
      "metadata": {
        "colab": {
          "base_uri": "https://localhost:8080/"
        },
        "id": "xxBBPGdCN0bm",
        "outputId": "d894c2a5-57e3-4ce6-fdc9-37d7195c1d28"
      },
      "source": [
        "from google.colab import drive\n",
        "drive.mount('/content/drive')\n"
      ],
      "execution_count": 3,
      "outputs": [
        {
          "output_type": "stream",
          "text": [
            "Mounted at /content/drive\n"
          ],
          "name": "stdout"
        }
      ]
    },
    {
      "cell_type": "code",
      "metadata": {
        "id": "KK8ep82NN32-"
      },
      "source": [
        "path = '/content/drive/My Drive/dataviz_2021'"
      ],
      "execution_count": 4,
      "outputs": []
    },
    {
      "cell_type": "code",
      "metadata": {
        "colab": {
          "base_uri": "https://localhost:8080/"
        },
        "id": "GpPx3V3qPGG7",
        "outputId": "c71195c2-5223-4c08-e70c-3f0fdc03c634"
      },
      "source": [
        "data = pd.read_csv(os.path.join(path,'search_request.csv'))\n"
      ],
      "execution_count": 6,
      "outputs": [
        {
          "output_type": "stream",
          "text": [
            "/usr/local/lib/python3.7/dist-packages/IPython/core/interactiveshell.py:2718: DtypeWarning: Columns (7,8,9) have mixed types.Specify dtype option on import or set low_memory=False.\n",
            "  interactivity=interactivity, compiler=compiler, result=result)\n"
          ],
          "name": "stderr"
        }
      ]
    },
    {
      "cell_type": "code",
      "metadata": {
        "id": "LMSwtGcSPIkX"
      },
      "source": [
        "data['search_timestamp']  = pd.to_datetime(data['search_timestamp'],format='%Y-%m-%d %H:%M:%S',errors='coerce')"
      ],
      "execution_count": 7,
      "outputs": []
    },
    {
      "cell_type": "code",
      "metadata": {
        "id": "aDRIOrK9R6bC",
        "outputId": "345eb95b-a888-41c5-e1f3-bd75e05fb7ef",
        "colab": {
          "base_uri": "https://localhost:8080/",
          "height": 178
        }
      },
      "source": [
        "plt.bar([1,2,3,4,5,6,7],[[data[data['search_timestamp'].dt.dayofweek == 0]],[data[data['search_timestamp'].dt.dayofweek == 1]],[data[data['search_timestamp'].dt.dayofweek == 2]],[data[data['search_timestamp'].dt.dayofweek == 3]],[data[data['search_timestamp'].dt.dayofweek == 4]],[data[data['search_timestamp'].dt.dayofweek == 5]],[data[data['search_timestamp'].dt.dayofweek == 6]]]"
      ],
      "execution_count": 15,
      "outputs": [
        {
          "output_type": "error",
          "ename": "SyntaxError",
          "evalue": "ignored",
          "traceback": [
            "\u001b[0;36m  File \u001b[0;32m\"<ipython-input-15-95763636468b>\"\u001b[0;36m, line \u001b[0;32m1\u001b[0m\n\u001b[0;31m    plt.bar([1,2,3,4,5,6,7],[[data[data['search_timestamp'].dt.dayofweek == 0]],[data[data['search_timestamp'].dt.dayofweek == 1]],[data[data['search_timestamp'].dt.dayofweek == 2]],[data[data['search_timestamp'].dt.dayofweek == 3]],[data[data['search_timestamp'].dt.dayofweek == 4]],[data[data['search_timestamp'].dt.dayofweek == 5]],[data[data['search_timestamp'].dt.dayofweek == 6]]]\u001b[0m\n\u001b[0m                                                                                                                                                                                                                                                                                                                                                                                                  ^\u001b[0m\n\u001b[0;31mSyntaxError\u001b[0m\u001b[0;31m:\u001b[0m unexpected EOF while parsing\n"
          ]
        }
      ]
    }
  ]
}