{
  "nbformat": 4,
  "nbformat_minor": 0,
  "metadata": {
    "colab": {
      "name": "intro.ipynb",
      "provenance": [],
      "authorship_tag": "ABX9TyPnP3vewEYg+tLJfTsufEh3",
      "include_colab_link": true
    },
    "kernelspec": {
      "name": "python3",
      "display_name": "Python 3"
    }
  },
  "cells": [
    {
      "cell_type": "markdown",
      "metadata": {
        "id": "view-in-github",
        "colab_type": "text"
      },
      "source": [
        "<a href=\"https://colab.research.google.com/github/ikarosgn/data_viz/blob/main/intro.ipynb\" target=\"_parent\"><img src=\"https://colab.research.google.com/assets/colab-badge.svg\" alt=\"Open In Colab\"/></a>"
      ]
    },
    {
      "cell_type": "markdown",
      "metadata": {
        "id": "Q7Y_omIWMfLp"
      },
      "source": [
        "สุทัศน์ พุทธิเสน 613020565-7"
      ]
    },
    {
      "cell_type": "markdown",
      "metadata": {
        "id": "jVlaYu2ENKPU"
      },
      "source": [
        "ภาษา Markdown\r\n",
        "\r\n",
        "# Markdown\r\n",
        "## markdown\r\n",
        "* 1\r\n",
        "* 2\r\n",
        "* 3\r\n",
        "\r\n",
        "~strike~\r\n",
        "\r\n",
        "`ddd`\r\n",
        "\r\n",
        "**ddd**\r\n",
        "\r\n",
        "*d*\r\n",
        "\r\n",
        "***ddd***\r\n",
        "\r\n",
        "###ddd###\r\n",
        "\r\n",
        "\r\n",
        "# This is formatted as code\r\n",
        "```\r\n",
        "\r\n"
      ]
    },
    {
      "cell_type": "code",
      "metadata": {
        "colab": {
          "base_uri": "https://localhost:8080/"
        },
        "id": "2AZnNFigLpJq",
        "outputId": "97a0154c-d31f-40ea-e775-8eceba7a9387"
      },
      "source": [
        "print('สุทัศน์')"
      ],
      "execution_count": 4,
      "outputs": [
        {
          "output_type": "stream",
          "text": [
            "สุทัศน์\n"
          ],
          "name": "stdout"
        }
      ]
    },
    {
      "cell_type": "code",
      "metadata": {
        "id": "puG1j4V3O2fm"
      },
      "source": [
        ""
      ],
      "execution_count": 4,
      "outputs": []
    }
  ]
}