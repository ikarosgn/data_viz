{
  "nbformat": 4,
  "nbformat_minor": 0,
  "metadata": {
    "colab": {
      "name": "intro.ipynb",
      "provenance": [],
      "authorship_tag": "ABX9TyO9E9EOhY2qYH/zI56XGn3D",
      "include_colab_link": true
    },
    "kernelspec": {
      "name": "python3",
      "display_name": "Python 3"
    }
  },
  "cells": [
    {
      "cell_type": "markdown",
      "metadata": {
        "id": "view-in-github",
        "colab_type": "text"
      },
      "source": [
        "<a href=\"https://colab.research.google.com/github/ikarosgn/data_viz/blob/main/intro.ipynb\" target=\"_parent\"><img src=\"https://colab.research.google.com/assets/colab-badge.svg\" alt=\"Open In Colab\"/></a>"
      ]
    },
    {
      "cell_type": "markdown",
      "metadata": {
        "id": "Q7Y_omIWMfLp"
      },
      "source": [
        "สุทัศน์ พุทธิเสน 613020565-7"
      ]
    },
    {
      "cell_type": "markdown",
      "metadata": {
        "id": "jVlaYu2ENKPU"
      },
      "source": [
        "ภาษา Markdown\r\n",
        "\r\n",
        "# Markdown\r\n",
        "## markdown\r\n",
        "* 1\r\n",
        "* 2\r\n",
        "* 3\r\n",
        "\r\n",
        "~strike~\r\n",
        "\r\n",
        "`ddd`\r\n",
        "\r\n",
        "**ddd**\r\n",
        "\r\n",
        "*d*\r\n",
        "\r\n",
        "***ddd***\r\n",
        "\r\n",
        "###ddd###\r\n",
        "\r\n",
        "\r\n",
        "# This is formatted as code\r\n",
        "```\r\n",
        "\r\n"
      ]
    },
    {
      "cell_type": "code",
      "metadata": {
        "colab": {
          "base_uri": "https://localhost:8080/"
        },
        "id": "2AZnNFigLpJq",
        "outputId": "97a0154c-d31f-40ea-e775-8eceba7a9387"
      },
      "source": [
        "print('สุทัศน์')"
      ],
      "execution_count": null,
      "outputs": [
        {
          "output_type": "stream",
          "text": [
            "สุทัศน์\n"
          ],
          "name": "stdout"
        }
      ]
    },
    {
      "cell_type": "code",
      "metadata": {
        "id": "puG1j4V3O2fm",
        "colab": {
          "base_uri": "https://localhost:8080/"
        },
        "outputId": "64c04756-df22-4579-80ca-f5fdf17861a8"
      },
      "source": [
        "print(\"ddd\")"
      ],
      "execution_count": 1,
      "outputs": [
        {
          "output_type": "stream",
          "text": [
            "ddd\n"
          ],
          "name": "stdout"
        }
      ]
    },
    {
      "cell_type": "code",
      "metadata": {
        "colab": {
          "base_uri": "https://localhost:8080/",
          "height": 129
        },
        "id": "DrK2CEPPUiyY",
        "outputId": "e265287f-8dcd-4234-f24e-ac9636ed424f"
      },
      "source": [
        ""
      ],
      "execution_count": 3,
      "outputs": [
        {
          "output_type": "error",
          "ename": "SyntaxError",
          "evalue": "ignored",
          "traceback": [
            "\u001b[0;36m  File \u001b[0;32m\"<ipython-input-3-97ca2a03e23a>\"\u001b[0;36m, line \u001b[0;32m1\u001b[0m\n\u001b[0;31m    print(#ddd#)\u001b[0m\n\u001b[0m                ^\u001b[0m\n\u001b[0;31mSyntaxError\u001b[0m\u001b[0;31m:\u001b[0m unexpected EOF while parsing\n"
          ]
        }
      ]
    },
    {
      "cell_type": "code",
      "metadata": {
        "id": "4_65DdNGUrTX"
      },
      "source": [
        ""
      ],
      "execution_count": null,
      "outputs": []
    }
  ]
}