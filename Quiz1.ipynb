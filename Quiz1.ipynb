{
  "nbformat": 4,
  "nbformat_minor": 0,
  "metadata": {
    "colab": {
      "name": "Quiz1.ipynb",
      "provenance": [],
      "include_colab_link": true
    },
    "kernelspec": {
      "name": "python3",
      "display_name": "Python 3"
    },
    "language_info": {
      "name": "python"
    }
  },
  "cells": [
    {
      "cell_type": "markdown",
      "metadata": {
        "id": "view-in-github",
        "colab_type": "text"
      },
      "source": [
        "<a href=\"https://colab.research.google.com/github/ikarosgn/data_viz/blob/main/Quiz1.ipynb\" target=\"_parent\"><img src=\"https://colab.research.google.com/assets/colab-badge.svg\" alt=\"Open In Colab\"/></a>"
      ]
    },
    {
      "cell_type": "markdown",
      "source": [
        "# Quiz1\n",
        "เขียน function แสดงความต่างของเวลาโดย input อยู่ในรูปแบบ 'XX:YY:ZZ - AA:BB:CC'\n",
        "\n",
        "และวนลูปแสดงผลของ input ต่อไปนี้\n",
        "\n",
        "* '09:11:50 - 12:30:15'\n",
        "* '13:41:07 - 20:00:18'\n",
        "* '00:00:00 - 23:59:59'\n",
        "* '18:04:11 - 00:00:00'\n",
        "* '21:30:00 - 03:05:15'\n",
        "\n",
        "ตัวอย่าง \n",
        "input ```'00:00:00-01:00:00'``` \n",
        "\n",
        "output ```ช่วงระยะเวลาระหว่าง 00:00:00 ถึง 01:00:00 มีเวลาทั้งหมด 3,600 วินาที```"
      ],
      "metadata": {
        "id": "AyuFpHU_VgDa"
      }
    },
    {
      "cell_type": "code",
      "source": [
        "list_a = ([9,11,50,12,30,15],[13,41,7,20,0,18],(0,0,0,23,59,59),(18,4,11,0,0,0),(21,30,0,3,5,15))\n"
      ],
      "metadata": {
        "id": "Scg0jqqFdejT"
      },
      "execution_count": 24,
      "outputs": []
    },
    {
      "cell_type": "code",
      "source": [
        "def function(list_a) :\n",
        "    a = (list_a[i][3]-list_a[i][0])*60*60+(list_a[i][4]-list_a[i][1])*60+(list_a[i][5]-list_a[i][2])\n",
        "    return a"
      ],
      "metadata": {
        "id": "H2hRxDqnecky"
      },
      "execution_count": 38,
      "outputs": []
    },
    {
      "cell_type": "code",
      "source": [
        "for i in range(5) :\n",
        "  function(list_a)\n",
        "  print(f'ช่วงระยะเวลาระหว่าง {list_a[i][0]}:{list_a[i][1]}:{list_a[i][2]} ถึง {list_a[i][3]}:{list_a[i][4]}:{list_a[i][5]} มีเวลาทั้งหมด {abs(function(list_a))}')\n",
        "    \n",
        "\n",
        "\n"
      ],
      "metadata": {
        "id": "WkyjOPZpfLPT",
        "outputId": "0ac6cc00-d054-47e6-de1c-d3c8defea853",
        "colab": {
          "base_uri": "https://localhost:8080/"
        }
      },
      "execution_count": 52,
      "outputs": [
        {
          "output_type": "stream",
          "name": "stdout",
          "text": [
            "ช่วงระยะเวลาระหว่าง 9:11:50 ถึง 12:30:15 มีเวลาทั้งหมด 11905\n",
            "ช่วงระยะเวลาระหว่าง 13:41:7 ถึง 20:0:18 มีเวลาทั้งหมด 22751\n",
            "ช่วงระยะเวลาระหว่าง 0:0:0 ถึง 23:59:59 มีเวลาทั้งหมด 86399\n",
            "ช่วงระยะเวลาระหว่าง 18:4:11 ถึง 0:0:0 มีเวลาทั้งหมด 65051\n",
            "ช่วงระยะเวลาระหว่าง 21:30:0 ถึง 3:5:15 มีเวลาทั้งหมด 66285\n"
          ]
        }
      ]
    },
    {
      "cell_type": "markdown",
      "source": [
        "ตัวแปรstring.split แบ่งข้อมูล\n",
        "\n"
      ],
      "metadata": {
        "id": "q85jIpbQrFpK"
      }
    },
    {
      "cell_type": "code",
      "source": [
        "time = '09:11:50 - 12:30:15 '\n",
        "time.split(' - ')"
      ],
      "metadata": {
        "id": "Hp46G6idq5G3",
        "outputId": "c210b561-877e-4607-b929-95491445d2fe",
        "colab": {
          "base_uri": "https://localhost:8080/"
        }
      },
      "execution_count": 54,
      "outputs": [
        {
          "output_type": "execute_result",
          "data": {
            "text/plain": [
              "['09:11:50', '12:30:15 ']"
            ]
          },
          "metadata": {},
          "execution_count": 54
        }
      ]
    },
    {
      "cell_type": "code",
      "source": [
        "time.split()"
      ],
      "metadata": {
        "id": "Y0kM8OGYrSwi",
        "outputId": "6ca2c042-fd1e-49c8-b407-c27af7f44058",
        "colab": {
          "base_uri": "https://localhost:8080/"
        }
      },
      "execution_count": 56,
      "outputs": [
        {
          "output_type": "execute_result",
          "data": {
            "text/plain": [
              "['09:11:50', '-', '12:30:15']"
            ]
          },
          "metadata": {},
          "execution_count": 56
        }
      ]
    },
    {
      "cell_type": "code",
      "source": [
        ""
      ],
      "metadata": {
        "id": "Ec7ctYoarS1Y"
      },
      "execution_count": null,
      "outputs": []
    }
  ]
}