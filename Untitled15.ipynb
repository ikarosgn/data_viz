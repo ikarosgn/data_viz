{
  "nbformat": 4,
  "nbformat_minor": 0,
  "metadata": {
    "colab": {
      "provenance": [],
      "authorship_tag": "ABX9TyO8mqagXZbhJzBehqv0i91Y",
      "include_colab_link": true
    },
    "kernelspec": {
      "name": "python3",
      "display_name": "Python 3"
    },
    "language_info": {
      "name": "python"
    },
    "accelerator": "GPU"
  },
  "cells": [
    {
      "cell_type": "markdown",
      "metadata": {
        "id": "view-in-github",
        "colab_type": "text"
      },
      "source": [
        "<a href=\"https://colab.research.google.com/github/ikarosgn/data_viz/blob/main/Untitled15.ipynb\" target=\"_parent\"><img src=\"https://colab.research.google.com/assets/colab-badge.svg\" alt=\"Open In Colab\"/></a>"
      ]
    },
    {
      "cell_type": "code",
      "execution_count": 17,
      "metadata": {
        "colab": {
          "base_uri": "https://localhost:8080/"
        },
        "id": "qy-BJVxDvfcz",
        "outputId": "0d5c6829-4e55-4d68-c0c6-9bf3b7dc573b"
      },
      "outputs": [
        {
          "output_type": "stream",
          "name": "stdout",
          "text": [
            "Drive already mounted at /content/drive; to attempt to forcibly remount, call drive.mount(\"/content/drive\", force_remount=True).\n"
          ]
        }
      ],
      "source": [
        "from google.colab import drive\n",
        "drive.mount('/content/drive')"
      ]
    },
    {
      "cell_type": "markdown",
      "source": [
        "# New Section"
      ],
      "metadata": {
        "id": "BMWx8M8PzSyj"
      }
    },
    {
      "cell_type": "code",
      "source": [
        "! nvidia-smi "
      ],
      "metadata": {
        "colab": {
          "base_uri": "https://localhost:8080/"
        },
        "id": "QG3YXceXvkt-",
        "outputId": "cc976296-5a20-4c9d-a99d-bd29501e635b"
      },
      "execution_count": 19,
      "outputs": [
        {
          "output_type": "stream",
          "name": "stdout",
          "text": [
            "Tue Oct 25 01:50:43 2022       \n",
            "+-----------------------------------------------------------------------------+\n",
            "| NVIDIA-SMI 460.32.03    Driver Version: 460.32.03    CUDA Version: 11.2     |\n",
            "|-------------------------------+----------------------+----------------------+\n",
            "| GPU  Name        Persistence-M| Bus-Id        Disp.A | Volatile Uncorr. ECC |\n",
            "| Fan  Temp  Perf  Pwr:Usage/Cap|         Memory-Usage | GPU-Util  Compute M. |\n",
            "|                               |                      |               MIG M. |\n",
            "|===============================+======================+======================|\n",
            "|   0  Tesla T4            Off  | 00000000:00:04.0 Off |                    0 |\n",
            "| N/A   35C    P8     9W /  70W |      0MiB / 15109MiB |      0%      Default |\n",
            "|                               |                      |                  N/A |\n",
            "+-------------------------------+----------------------+----------------------+\n",
            "                                                                               \n",
            "+-----------------------------------------------------------------------------+\n",
            "| Processes:                                                                  |\n",
            "|  GPU   GI   CI        PID   Type   Process name                  GPU Memory |\n",
            "|        ID   ID                                                   Usage      |\n",
            "|=============================================================================|\n",
            "|  No running processes found                                                 |\n",
            "+-----------------------------------------------------------------------------+\n"
          ]
        }
      ]
    },
    {
      "cell_type": "code",
      "source": [
        "! pip install torch==1.9.1+cu111 torchvision==0.10.1+cu111 torchaudio==0.9.1 -f https://download.pytorch.org/whl/torch_stable.html"
      ],
      "metadata": {
        "colab": {
          "base_uri": "https://localhost:8080/"
        },
        "id": "6YJpog2Evl7u",
        "outputId": "e1a7885f-67a3-4ae4-e900-d7b1b19960bf"
      },
      "execution_count": 20,
      "outputs": [
        {
          "output_type": "stream",
          "name": "stdout",
          "text": [
            "Looking in indexes: https://pypi.org/simple, https://us-python.pkg.dev/colab-wheels/public/simple/\n",
            "Looking in links: https://download.pytorch.org/whl/torch_stable.html\n",
            "Requirement already satisfied: torch==1.9.1+cu111 in /usr/local/lib/python3.7/dist-packages (1.9.1+cu111)\n",
            "Requirement already satisfied: torchvision==0.10.1+cu111 in /usr/local/lib/python3.7/dist-packages (0.10.1+cu111)\n",
            "Requirement already satisfied: torchaudio==0.9.1 in /usr/local/lib/python3.7/dist-packages (0.9.1)\n",
            "Requirement already satisfied: typing-extensions in /usr/local/lib/python3.7/dist-packages (from torch==1.9.1+cu111) (4.1.1)\n",
            "Requirement already satisfied: numpy in /usr/local/lib/python3.7/dist-packages (from torchvision==0.10.1+cu111) (1.21.6)\n",
            "Requirement already satisfied: pillow>=5.3.0 in /usr/local/lib/python3.7/dist-packages (from torchvision==0.10.1+cu111) (7.1.2)\n"
          ]
        }
      ]
    },
    {
      "cell_type": "code",
      "source": [
        "## Check pytorch version\n",
        "import torch\n",
        "print(torch.__version__)"
      ],
      "metadata": {
        "colab": {
          "base_uri": "https://localhost:8080/"
        },
        "id": "ZVSnZZ_TvpKm",
        "outputId": "ee62436d-79ad-4e8b-b513-8abc628d0ca7"
      },
      "execution_count": 5,
      "outputs": [
        {
          "output_type": "stream",
          "name": "stdout",
          "text": [
            "1.9.1+cu111\n"
          ]
        }
      ]
    },
    {
      "cell_type": "code",
      "source": [
        "import scipy\n",
        "print(scipy.__version__)"
      ],
      "metadata": {
        "colab": {
          "base_uri": "https://localhost:8080/"
        },
        "id": "aXQmTxcqvvVU",
        "outputId": "e0557e73-ec41-4a7c-fa27-faea3608d0fe"
      },
      "execution_count": 6,
      "outputs": [
        {
          "output_type": "stream",
          "name": "stdout",
          "text": [
            "1.7.3\n"
          ]
        }
      ]
    },
    {
      "cell_type": "code",
      "source": [
        "import sklearn\n",
        "print(sklearn.__version__)"
      ],
      "metadata": {
        "colab": {
          "base_uri": "https://localhost:8080/"
        },
        "id": "EBjJZ70Gvwst",
        "outputId": "9fc1c8a3-b4e8-40d2-e088-9cb35dadc782"
      },
      "execution_count": 7,
      "outputs": [
        {
          "output_type": "stream",
          "name": "stdout",
          "text": [
            "1.0.2\n"
          ]
        }
      ]
    },
    {
      "cell_type": "code",
      "source": [
        "! ls"
      ],
      "metadata": {
        "colab": {
          "base_uri": "https://localhost:8080/"
        },
        "id": "41rlbBlvvxjy",
        "outputId": "1103d322-31ce-4627-d010-1f3c5c6c2dee"
      },
      "execution_count": 8,
      "outputs": [
        {
          "output_type": "stream",
          "name": "stdout",
          "text": [
            "drive  sample_data\n"
          ]
        }
      ]
    },
    {
      "cell_type": "code",
      "source": [
        " %cd /content/drive/MyDrive/ODIN"
      ],
      "metadata": {
        "colab": {
          "base_uri": "https://localhost:8080/"
        },
        "id": "ya138uT3vyUY",
        "outputId": "718c88ee-1943-4489-f5ce-48d808ae195e"
      },
      "execution_count": 18,
      "outputs": [
        {
          "output_type": "stream",
          "name": "stdout",
          "text": [
            "/content/drive/MyDrive/ODIN\n"
          ]
        }
      ]
    },
    {
      "cell_type": "code",
      "source": [
        "#!tar -xvf \"/content/drive/MyDrive/ODIN/Imagenet_resize.tar.gz\" -C \"/content/drive/MyDrive/ODIN/\"   "
      ],
      "metadata": {
        "id": "Rl64G9xGvztj"
      },
      "execution_count": 10,
      "outputs": []
    },
    {
      "cell_type": "code",
      "source": [
        "!tar -xvf \"/content/drive/MyDrive/ODIN/LSUN_resize.tar.gz\" -C \"/content/drive/MyDrive/ODIN/\"   "
      ],
      "metadata": {
        "colab": {
          "base_uri": "https://localhost:8080/"
        },
        "id": "nZeae6VAv0gM",
        "outputId": "03f1050b-3fd6-4f56-c6a3-6c9b68b26595"
      },
      "execution_count": 11,
      "outputs": [
        {
          "output_type": "stream",
          "name": "stdout",
          "text": [
            "tar: /content/drive/MyDrive/ODIN/LSUN_resize.tar.gz: Cannot open: No such file or directory\n",
            "tar: Error is not recoverable: exiting now\n"
          ]
        }
      ]
    },
    {
      "cell_type": "code",
      "source": [
        "!tar -xvf \"/content/drive/MyDrive/ODIN/LSUN_resize.tar.gz\" -C \"/content/drive/MyDrive/ODIN/\"   "
      ],
      "metadata": {
        "id": "--1HNLCp0TgZ"
      },
      "execution_count": null,
      "outputs": []
    },
    {
      "cell_type": "code",
      "source": [
        "#! git clone https://github.com/pokaxpoka/deep_Mahalanobis_detector.git"
      ],
      "metadata": {
        "id": "yzYQMdhDv1UR"
      },
      "execution_count": null,
      "outputs": []
    },
    {
      "cell_type": "code",
      "source": [
        "!python deep_Mahalanobis_detector/OOD_Baseline_and_ODIN.py --dataset svhn  --net_type resnet --gpu 0"
      ],
      "metadata": {
        "colab": {
          "base_uri": "https://localhost:8080/"
        },
        "id": "rDWGySACv3s0",
        "outputId": "ec7bbbcc-64b9-4a67-b7b9-87e07355341a"
      },
      "execution_count": 21,
      "outputs": [
        {
          "output_type": "stream",
          "name": "stdout",
          "text": [
            "Namespace(batch_size=200, dataroot='./data', dataset='svhn', gpu=0, net_type='resnet', num_classes=10, outf='./output/')\n",
            "Traceback (most recent call last):\n",
            "  File \"deep_Mahalanobis_detector/OOD_Baseline_and_ODIN.py\", line 131, in <module>\n",
            "    main()\n",
            "  File \"deep_Mahalanobis_detector/OOD_Baseline_and_ODIN.py\", line 34, in main\n",
            "    os.mkdir(args.outf)\n",
            "FileNotFoundError: [Errno 2] No such file or directory: './output/resnet_svhn/'\n"
          ]
        }
      ]
    },
    {
      "cell_type": "code",
      "source": [
        "!python deep_Mahalanobis_detector/OOD_Generate_Mahalanobis.py --dataset svhn  --net_type resnet --gpu 0"
      ],
      "metadata": {
        "colab": {
          "base_uri": "https://localhost:8080/"
        },
        "id": "cwcP9gUKv4oe",
        "outputId": "d29b3dac-05b7-45a8-9786-5e6a7c4a3e10"
      },
      "execution_count": 13,
      "outputs": [
        {
          "output_type": "stream",
          "name": "stdout",
          "text": [
            "Namespace(batch_size=200, dataroot='./data', dataset='svhn', gpu=0, net_type='resnet', num_classes=10, outf='./output/')\n",
            "Traceback (most recent call last):\n",
            "  File \"deep_Mahalanobis_detector/OOD_Generate_Mahalanobis.py\", line 112, in <module>\n",
            "    main()\n",
            "  File \"deep_Mahalanobis_detector/OOD_Generate_Mahalanobis.py\", line 34, in main\n",
            "    os.mkdir(args.outf)\n",
            "FileNotFoundError: [Errno 2] No such file or directory: './output/resnet_svhn/'\n"
          ]
        }
      ]
    },
    {
      "cell_type": "code",
      "source": [
        "!python deep_Mahalanobis_detector/OOD_Regression_Mahalanobis.py --net_type resnet"
      ],
      "metadata": {
        "colab": {
          "base_uri": "https://localhost:8080/"
        },
        "id": "IuQU6gj7v6KN",
        "outputId": "5359070e-1bc1-4ec8-d226-5508a937c6c1"
      },
      "execution_count": 14,
      "outputs": [
        {
          "output_type": "stream",
          "name": "stdout",
          "text": [
            "Namespace(net_type='resnet')\n",
            "In-distribution:  cifar10\n",
            "Out-of-distribution:  svhn\n",
            "Traceback (most recent call last):\n",
            "  File \"deep_Mahalanobis_detector/OOD_Regression_Mahalanobis.py\", line 83, in <module>\n",
            "    main()\n",
            "  File \"deep_Mahalanobis_detector/OOD_Regression_Mahalanobis.py\", line 37, in main\n",
            "    total_X, total_Y = lib_regression.load_characteristics(score, dataset, out, outf)\n",
            "  File \"/content/drive/MyDrive/ODIN/deep_Mahalanobis_detector/lib_regression.py\", line 80, in load_characteristics\n",
            "    data = np.load(file_name)\n",
            "  File \"/usr/local/lib/python3.7/dist-packages/numpy/lib/npyio.py\", line 417, in load\n",
            "    fid = stack.enter_context(open(os_fspath(file), \"rb\"))\n",
            "FileNotFoundError: [Errno 2] No such file or directory: './output/resnet_cifar10/Mahalanobis_0.0_cifar10_svhn.npy'\n"
          ]
        }
      ]
    }
  ]
}